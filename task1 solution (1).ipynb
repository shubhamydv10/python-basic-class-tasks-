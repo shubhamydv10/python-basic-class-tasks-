{
 "cells": [
  {
   "cell_type": "code",
   "execution_count": 6,
   "id": "fb5ab4bb",
   "metadata": {},
   "outputs": [],
   "source": [
    "s = \"this is My First Python programming class and i am learNING python string and its function\""
   ]
  },
  {
   "cell_type": "code",
   "execution_count": null,
   "id": "8ea25b8f",
   "metadata": {},
   "outputs": [],
   "source": [
    "#1 . Try to extract data from index one to index 300 with a jump of 3 "
   ]
  },
  {
   "cell_type": "code",
   "execution_count": 8,
   "id": "459b9f7f",
   "metadata": {},
   "outputs": [
    {
     "data": {
      "text/plain": [
       "'h   r tnrrmglsnimeNGyosi dtfco'"
      ]
     },
     "execution_count": 8,
     "metadata": {},
     "output_type": "execute_result"
    }
   ],
   "source": [
    "s[1:300:3]"
   ]
  },
  {
   "cell_type": "code",
   "execution_count": 10,
   "id": "cb0b4108",
   "metadata": {},
   "outputs": [],
   "source": [
    "#2. Try to reverse a string without using reverse function "
   ]
  },
  {
   "cell_type": "code",
   "execution_count": 11,
   "id": "0eeab5aa",
   "metadata": {},
   "outputs": [
    {
     "data": {
      "text/plain": [
       "'noitcnuf sti dna gnirts nohtyp GNINrael ma i dna ssalc gnimmargorp nohtyP tsriF yM si siht'"
      ]
     },
     "execution_count": 11,
     "metadata": {},
     "output_type": "execute_result"
    }
   ],
   "source": [
    "s[::-1]"
   ]
  },
  {
   "cell_type": "code",
   "execution_count": 12,
   "id": "13aea13e",
   "metadata": {},
   "outputs": [],
   "source": [
    "#3. Try to split a string after conversion of entire string in uppercase "
   ]
  },
  {
   "cell_type": "code",
   "execution_count": 13,
   "id": "e4db05c1",
   "metadata": {},
   "outputs": [
    {
     "data": {
      "text/plain": [
       "'THIS IS MY FIRST PYTHON PROGRAMMING CLASS AND I AM LEARNING PYTHON STRING AND ITS FUNCTION'"
      ]
     },
     "execution_count": 13,
     "metadata": {},
     "output_type": "execute_result"
    }
   ],
   "source": [
    "s.upper()"
   ]
  },
  {
   "cell_type": "code",
   "execution_count": 19,
   "id": "e86bb72f",
   "metadata": {},
   "outputs": [],
   "source": [
    "s1 = s.upper()"
   ]
  },
  {
   "cell_type": "code",
   "execution_count": 20,
   "id": "5d33eda9",
   "metadata": {},
   "outputs": [
    {
     "data": {
      "text/plain": [
       "['THIS',\n",
       " 'IS',\n",
       " 'MY',\n",
       " 'FIRST',\n",
       " 'PYTHON',\n",
       " 'PROGRAMMING',\n",
       " 'CLASS',\n",
       " 'AND',\n",
       " 'I',\n",
       " 'AM',\n",
       " 'LEARNING',\n",
       " 'PYTHON',\n",
       " 'STRING',\n",
       " 'AND',\n",
       " 'ITS',\n",
       " 'FUNCTION']"
      ]
     },
     "execution_count": 20,
     "metadata": {},
     "output_type": "execute_result"
    }
   ],
   "source": [
    "s1.split()"
   ]
  },
  {
   "cell_type": "code",
   "execution_count": 21,
   "id": "68bf9f1c",
   "metadata": {},
   "outputs": [],
   "source": [
    "#4. try to convert the whole string into lower case "
   ]
  },
  {
   "cell_type": "code",
   "execution_count": 22,
   "id": "3c8fc45c",
   "metadata": {},
   "outputs": [
    {
     "data": {
      "text/plain": [
       "'this is my first python programming class and i am learning python string and its function'"
      ]
     },
     "execution_count": 22,
     "metadata": {},
     "output_type": "execute_result"
    }
   ],
   "source": [
    "s1.lower()"
   ]
  },
  {
   "cell_type": "code",
   "execution_count": 23,
   "id": "2846afb7",
   "metadata": {},
   "outputs": [],
   "source": [
    "#5 . Try to capitalize the whole string."
   ]
  },
  {
   "cell_type": "code",
   "execution_count": 24,
   "id": "310adb13",
   "metadata": {},
   "outputs": [
    {
     "data": {
      "text/plain": [
       "'This is my first python programming class and i am learning python string and its function'"
      ]
     },
     "execution_count": 24,
     "metadata": {},
     "output_type": "execute_result"
    }
   ],
   "source": [
    "s1.capitalize()"
   ]
  },
  {
   "cell_type": "code",
   "execution_count": 25,
   "id": "4a4ca6fc",
   "metadata": {},
   "outputs": [
    {
     "data": {
      "text/plain": [
       "'This Is My First Python Programming Class And I Am Learning Python String And Its Function'"
      ]
     },
     "execution_count": 25,
     "metadata": {},
     "output_type": "execute_result"
    }
   ],
   "source": [
    "s1.title()"
   ]
  },
  {
   "cell_type": "code",
   "execution_count": null,
   "id": "1b77928a",
   "metadata": {},
   "outputs": [],
   "source": [
    "#6 . Write a diference between isalnum() and isalpha()"
   ]
  },
  {
   "cell_type": "markdown",
   "id": "393aeca9",
   "metadata": {},
   "source": [
    "isalnum() - It will return the true value from the string when there is a numeric character or a alphabets charater is present inside it. Is there is a space in the string it will return false.\n",
    "\n",
    "isalpha() - It will return true only when there is an alphabetical character present inside the string otherwise it will return fasle.It will also return fasle if there is any space in the string."
   ]
  },
  {
   "cell_type": "code",
   "execution_count": null,
   "id": "8a43a85f",
   "metadata": {},
   "outputs": [],
   "source": [
    "#7. Try to give an example of expand tab"
   ]
  },
  {
   "cell_type": "code",
   "execution_count": 26,
   "id": "9d3e757e",
   "metadata": {},
   "outputs": [],
   "source": [
    "c = \"Programming\\tis\\tfun\""
   ]
  },
  {
   "cell_type": "code",
   "execution_count": 28,
   "id": "2486c106",
   "metadata": {},
   "outputs": [
    {
     "data": {
      "text/plain": [
       "'Programming     is      fun'"
      ]
     },
     "execution_count": 28,
     "metadata": {},
     "output_type": "execute_result"
    }
   ],
   "source": [
    "c.expandtabs()"
   ]
  },
  {
   "cell_type": "code",
   "execution_count": null,
   "id": "50244156",
   "metadata": {},
   "outputs": [],
   "source": [
    "#8 . Give an example of strip , lstrip and rstrip "
   ]
  },
  {
   "cell_type": "code",
   "execution_count": 33,
   "id": "a50eec6b",
   "metadata": {},
   "outputs": [],
   "source": [
    "a = \"      shubham         \""
   ]
  },
  {
   "cell_type": "code",
   "execution_count": 34,
   "id": "85678d7e",
   "metadata": {},
   "outputs": [
    {
     "data": {
      "text/plain": [
       "'shubham'"
      ]
     },
     "execution_count": 34,
     "metadata": {},
     "output_type": "execute_result"
    }
   ],
   "source": [
    "a.strip()"
   ]
  },
  {
   "cell_type": "code",
   "execution_count": 35,
   "id": "8065d340",
   "metadata": {},
   "outputs": [
    {
     "data": {
      "text/plain": [
       "'shubham         '"
      ]
     },
     "execution_count": 35,
     "metadata": {},
     "output_type": "execute_result"
    }
   ],
   "source": [
    "a.lstrip()"
   ]
  },
  {
   "cell_type": "code",
   "execution_count": 36,
   "id": "80d94be9",
   "metadata": {},
   "outputs": [
    {
     "data": {
      "text/plain": [
       "'      shubham'"
      ]
     },
     "execution_count": 36,
     "metadata": {},
     "output_type": "execute_result"
    }
   ],
   "source": [
    "a.rstrip()"
   ]
  },
  {
   "cell_type": "code",
   "execution_count": 37,
   "id": "253834f5",
   "metadata": {},
   "outputs": [],
   "source": [
    "#9.  Replace a string charecter by another charector by taking your own example "
   ]
  },
  {
   "cell_type": "code",
   "execution_count": 43,
   "id": "ac9e06cc",
   "metadata": {},
   "outputs": [],
   "source": [
    "n = 'sudhanshu'"
   ]
  },
  {
   "cell_type": "code",
   "execution_count": 51,
   "id": "75defb32",
   "metadata": {},
   "outputs": [],
   "source": [
    "n1 = n.replace(\"u\" , \"z\" , 2)"
   ]
  },
  {
   "cell_type": "code",
   "execution_count": 52,
   "id": "26ad6447",
   "metadata": {},
   "outputs": [
    {
     "data": {
      "text/plain": [
       "'szdhanshz'"
      ]
     },
     "execution_count": 52,
     "metadata": {},
     "output_type": "execute_result"
    }
   ],
   "source": [
    "n1"
   ]
  },
  {
   "cell_type": "code",
   "execution_count": 53,
   "id": "4ca3d3a2",
   "metadata": {},
   "outputs": [],
   "source": [
    "#10 . Try  to give a defination of string center function with and exmple "
   ]
  },
  {
   "cell_type": "markdown",
   "id": "cc88ac7e",
   "metadata": {},
   "source": [
    "center function is a method in string to aling the assigned variable in center between the given indicies width and filler character .For example"
   ]
  },
  {
   "cell_type": "code",
   "execution_count": 57,
   "id": "cf77301a",
   "metadata": {},
   "outputs": [],
   "source": [
    "v = 'shubham'"
   ]
  },
  {
   "cell_type": "code",
   "execution_count": 60,
   "id": "827095c7",
   "metadata": {},
   "outputs": [
    {
     "data": {
      "text/plain": [
       "'QQQQQQQQQQQshubhamQQQQQQQQQQQQ'"
      ]
     },
     "execution_count": 60,
     "metadata": {},
     "output_type": "execute_result"
    }
   ],
   "source": [
    "v.center(30 , 'Q')"
   ]
  },
  {
   "cell_type": "markdown",
   "id": "c77ae198",
   "metadata": {},
   "source": [
    "here v is string variable in which we want to use center funtion. 30 is the assigned width and Q is the desired character we want to fill in the left and right side."
   ]
  },
  {
   "cell_type": "code",
   "execution_count": 62,
   "id": "56e2c0c1",
   "metadata": {},
   "outputs": [],
   "source": [
    "#11 . Write your own definition of compiler and interpretor without copy paste form internet in your own language"
   ]
  },
  {
   "cell_type": "markdown",
   "id": "c0c2a32b",
   "metadata": {},
   "source": [
    "complier - as the name suggest it used to translate all the written code into machine code after the completetion of the whole programme.We need to write whole programme so that we can execute it.\n",
    "interpreter - whereas interpreter transform each code line by line when it is written in the programme.We don't need to write the whole programme as it transform code line by line.\n",
    "\n"
   ]
  },
  {
   "cell_type": "code",
   "execution_count": 63,
   "id": "e07e0510",
   "metadata": {},
   "outputs": [],
   "source": [
    "#12 . Python is a interpreted of compiled language give a clear ans with your understanding "
   ]
  },
  {
   "cell_type": "markdown",
   "id": "dc91449a",
   "metadata": {},
   "source": [
    "Python is a interpreted language because it translate the code line by line.That is the the reason that it is so easy to use and learn."
   ]
  },
  {
   "cell_type": "code",
   "execution_count": null,
   "id": "1a738643",
   "metadata": {},
   "outputs": [],
   "source": [
    "#13 . Try to write a usecase of python with your understanding .\n"
   ]
  },
  {
   "cell_type": "markdown",
   "id": "912f1f7d",
   "metadata": {},
   "source": [
    "Python is widely use in Data science , machine learning , building a website ."
   ]
  },
  {
   "cell_type": "code",
   "execution_count": null,
   "id": "b7b6d464",
   "metadata": {},
   "outputs": [],
   "source": []
  },
  {
   "cell_type": "code",
   "execution_count": null,
   "id": "c15f7869",
   "metadata": {},
   "outputs": [],
   "source": []
  }
 ],
 "metadata": {
  "kernelspec": {
   "display_name": "Python 3 (ipykernel)",
   "language": "python",
   "name": "python3"
  },
  "language_info": {
   "codemirror_mode": {
    "name": "ipython",
    "version": 3
   },
   "file_extension": ".py",
   "mimetype": "text/x-python",
   "name": "python",
   "nbconvert_exporter": "python",
   "pygments_lexer": "ipython3",
   "version": "3.9.12"
  }
 },
 "nbformat": 4,
 "nbformat_minor": 5
}
