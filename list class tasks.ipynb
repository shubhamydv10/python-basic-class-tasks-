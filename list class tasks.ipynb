{
 "cells": [
  {
   "cell_type": "markdown",
   "id": "bb8f45b0-451d-4625-a6af-2efd88d1dc85",
   "metadata": {},
   "source": [
    "\"\"\" questions\n",
    "l = [3,4,5,6,7 , [23,456,67,8,78,78] , [345,56,87,8,98,9] , (234,6657,6) , {\"key1\" :\"sudh\" , 234:[23,45,656]}]\n",
    "1 . Try to reverse a list\n",
    "2. try to access 234 out of this list\n",
    "3 . try to access 456\n",
    "4 . Try to extract only a list collection form list l\n",
    "5 . Try to extract \"sudh\"\n",
    "6 . Try to list all the key in dict element avaible in list\n",
    "7 . Try to extract all the value element form dict available in list\n",
    "\"\"\""
   ]
  },
  {
   "cell_type": "code",
   "execution_count": 2,
   "id": "7b6103ad-1b97-4d99-841a-3713ec183e2c",
   "metadata": {},
   "outputs": [],
   "source": [
    "l = [3,4,5,6,7 , [23,456,67,8,78,78] , [345,56,87,8,98,9] , (234,6657,6) , {\"key1\" :\"sudh\" , 234:[23,45,656]}]"
   ]
  },
  {
   "cell_type": "code",
   "execution_count": 3,
   "id": "54ea9f08-f49b-469e-b2c7-0f8de806015c",
   "metadata": {},
   "outputs": [],
   "source": [
    "#1 . 1 . Try to reverse a list"
   ]
  },
  {
   "cell_type": "code",
   "execution_count": 4,
   "id": "2113e2a9-2511-495b-9423-4368579b564b",
   "metadata": {},
   "outputs": [
    {
     "data": {
      "text/plain": [
       "[{'key1': 'sudh', 234: [23, 45, 656]},\n",
       " (234, 6657, 6),\n",
       " [345, 56, 87, 8, 98, 9],\n",
       " [23, 456, 67, 8, 78, 78],\n",
       " 7,\n",
       " 6,\n",
       " 5,\n",
       " 4,\n",
       " 3]"
      ]
     },
     "execution_count": 4,
     "metadata": {},
     "output_type": "execute_result"
    }
   ],
   "source": [
    "l[::-1]"
   ]
  },
  {
   "cell_type": "code",
   "execution_count": 5,
   "id": "1f73956b-8a65-4205-9697-81517088ccb1",
   "metadata": {},
   "outputs": [],
   "source": [
    "#2. try to access 234 out of this list"
   ]
  },
  {
   "cell_type": "code",
   "execution_count": 10,
   "id": "84051b01-0d1f-4367-8553-fb2f44b5b2c6",
   "metadata": {},
   "outputs": [
    {
     "data": {
      "text/plain": [
       "234"
      ]
     },
     "execution_count": 10,
     "metadata": {},
     "output_type": "execute_result"
    }
   ],
   "source": [
    "(l[7][0])"
   ]
  },
  {
   "cell_type": "code",
   "execution_count": 11,
   "id": "1af0c4de-8d60-4ec8-ae8e-0769105c8119",
   "metadata": {},
   "outputs": [],
   "source": [
    "#3 . try to access 456"
   ]
  },
  {
   "cell_type": "code",
   "execution_count": 12,
   "id": "265f5036-2278-40c3-95e4-a926e9e3c8a9",
   "metadata": {},
   "outputs": [
    {
     "data": {
      "text/plain": [
       "456"
      ]
     },
     "execution_count": 12,
     "metadata": {},
     "output_type": "execute_result"
    }
   ],
   "source": [
    "l[5][1]"
   ]
  },
  {
   "cell_type": "code",
   "execution_count": 13,
   "id": "0619be82-74f2-4e44-a3cd-72affeeda636",
   "metadata": {},
   "outputs": [],
   "source": [
    "#4 . Try to extract only a list collection form list l"
   ]
  },
  {
   "cell_type": "code",
   "execution_count": 16,
   "id": "80b5d5e0-c2f7-4d49-91fd-1cdbd3a609d4",
   "metadata": {},
   "outputs": [
    {
     "name": "stdout",
     "output_type": "stream",
     "text": [
      "[23, 456, 67, 8, 78, 78]\n",
      "[345, 56, 87, 8, 98, 9]\n"
     ]
    }
   ],
   "source": [
    "for i in l:\n",
    "    if type(i)==list:\n",
    "        print(i)"
   ]
  },
  {
   "cell_type": "code",
   "execution_count": 17,
   "id": "a64e050b-b8ab-4d58-9915-9a5f41821172",
   "metadata": {},
   "outputs": [],
   "source": [
    "#5 . Try to extract \"sudh\""
   ]
  },
  {
   "cell_type": "code",
   "execution_count": 32,
   "id": "a1e7b859-25ce-494f-8ecf-7a815e91c80b",
   "metadata": {},
   "outputs": [
    {
     "name": "stdout",
     "output_type": "stream",
     "text": [
      "['sudh']\n"
     ]
    }
   ],
   "source": [
    "l1 = []\n",
    "for i in l:\n",
    "    if type(i)==dict:\n",
    "        for k,v in i.items():\n",
    "            if k==\"sudh\" or v==\"sudh\":\n",
    "                l1.append(v)\n",
    "\n",
    "print(l1)"
   ]
  },
  {
   "cell_type": "code",
   "execution_count": 33,
   "id": "2b4500a2-1607-4a90-bb8a-2098c4712a77",
   "metadata": {},
   "outputs": [],
   "source": [
    "#6 . 6 . Try to list all the key in dict element avaible in list"
   ]
  },
  {
   "cell_type": "code",
   "execution_count": 37,
   "id": "17d86289-d203-4597-bac4-781ed92405e4",
   "metadata": {},
   "outputs": [
    {
     "name": "stdout",
     "output_type": "stream",
     "text": [
      "['key1', 234]\n"
     ]
    }
   ],
   "source": [
    "l2=[]\n",
    "for i in l:\n",
    "    if type(i)==dict:\n",
    "        for j in i.keys():\n",
    "            l2.append(j)\n",
    "print(l2)"
   ]
  },
  {
   "cell_type": "code",
   "execution_count": 38,
   "id": "a1d9e03b-bf47-4dd7-b920-6b0245e9fc89",
   "metadata": {},
   "outputs": [],
   "source": [
    "#7 . Try to extract all the value element form dict available in list"
   ]
  },
  {
   "cell_type": "code",
   "execution_count": 39,
   "id": "a75bcee6-ee4c-4886-afe2-1357d2922c6a",
   "metadata": {},
   "outputs": [
    {
     "name": "stdout",
     "output_type": "stream",
     "text": [
      "['sudh', [23, 45, 656]]\n"
     ]
    }
   ],
   "source": [
    "l3=[]\n",
    "for i in l:\n",
    "    if type(i)==dict:\n",
    "        for j in i.values():\n",
    "            l3.append(j)\n",
    "print(l3)"
   ]
  },
  {
   "cell_type": "code",
   "execution_count": null,
   "id": "f2c59c61-702f-4679-aded-0fe627bf765a",
   "metadata": {},
   "outputs": [],
   "source": []
  }
 ],
 "metadata": {
  "kernelspec": {
   "display_name": "Python 3 (ipykernel)",
   "language": "python",
   "name": "python3"
  },
  "language_info": {
   "codemirror_mode": {
    "name": "ipython",
    "version": 3
   },
   "file_extension": ".py",
   "mimetype": "text/x-python",
   "name": "python",
   "nbconvert_exporter": "python",
   "pygments_lexer": "ipython3",
   "version": "3.11.7"
  }
 },
 "nbformat": 4,
 "nbformat_minor": 5
}
