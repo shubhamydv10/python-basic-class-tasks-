{
 "cells": [
  {
   "cell_type": "code",
   "execution_count": 1,
   "id": "f9128b33-24b6-429d-ac9b-5342de4263aa",
   "metadata": {},
   "outputs": [],
   "source": [
    "l = [[1,2,3,4],(2,3,4,5,6),(3,4,5,6,7),set([23,4,5,4,4,5,45,45,4,5]),{\"k1\":\"sudh\",\"k2\":\"ineuron\",\"k3\":\"kumar\",3:6,7:8},[\"ineuron\",\"data science\"]]"
   ]
  },
  {
   "cell_type": "code",
   "execution_count": 2,
   "id": "74fc02e2-2d24-48fa-8b17-305bb930b6f8",
   "metadata": {},
   "outputs": [
    {
     "data": {
      "text/plain": [
       "[[1, 2, 3, 4],\n",
       " (2, 3, 4, 5, 6),\n",
       " (3, 4, 5, 6, 7),\n",
       " {4, 5, 23, 45},\n",
       " {'k1': 'sudh', 'k2': 'ineuron', 'k3': 'kumar', 3: 6, 7: 8},\n",
       " ['ineuron', 'data science']]"
      ]
     },
     "execution_count": 2,
     "metadata": {},
     "output_type": "execute_result"
    }
   ],
   "source": [
    "l"
   ]
  },
  {
   "cell_type": "code",
   "execution_count": 3,
   "id": "1f9f55a3-d039-40bc-823b-ad1e06a2a6a0",
   "metadata": {},
   "outputs": [],
   "source": [
    "#1 . try to extract all the list entity"
   ]
  },
  {
   "cell_type": "code",
   "execution_count": 4,
   "id": "964bbc25-4df8-47d0-acb4-14adc82804ef",
   "metadata": {},
   "outputs": [
    {
     "name": "stdout",
     "output_type": "stream",
     "text": [
      "[1, 2, 3, 4]\n",
      "['ineuron', 'data science']\n"
     ]
    }
   ],
   "source": [
    "for i in l:\n",
    "    if type(i)==list:\n",
    "        print(i)\n",
    "            "
   ]
  },
  {
   "cell_type": "code",
   "execution_count": 5,
   "id": "900f0cb6-d67e-4b0f-9f23-48fb1dfbb3c8",
   "metadata": {},
   "outputs": [],
   "source": [
    "#2 . try to extract all the dictionary entity"
   ]
  },
  {
   "cell_type": "code",
   "execution_count": 6,
   "id": "b4c680a5-fa65-4a2f-9fcc-cd3a983d4c41",
   "metadata": {},
   "outputs": [
    {
     "name": "stdout",
     "output_type": "stream",
     "text": [
      "{'k1': 'sudh', 'k2': 'ineuron', 'k3': 'kumar', 3: 6, 7: 8}\n"
     ]
    }
   ],
   "source": [
    "for i in l:\n",
    "    if type(i)==dict:\n",
    "        print(i)"
   ]
  },
  {
   "cell_type": "code",
   "execution_count": 7,
   "id": "cfbd7de6-aa9f-4450-8266-5b4612190a19",
   "metadata": {},
   "outputs": [],
   "source": [
    "#3 . try to extract all the tuples entity"
   ]
  },
  {
   "cell_type": "code",
   "execution_count": 8,
   "id": "03b0a8ce-c708-4244-8056-1cc96ed58930",
   "metadata": {},
   "outputs": [
    {
     "name": "stdout",
     "output_type": "stream",
     "text": [
      "(2, 3, 4, 5, 6)\n",
      "(3, 4, 5, 6, 7)\n"
     ]
    }
   ],
   "source": [
    "for i in l:\n",
    "    if type(i)==tuple:\n",
    "        print(i)"
   ]
  },
  {
   "cell_type": "code",
   "execution_count": 9,
   "id": "f3206bd3-dbc6-4925-9184-df4709bf8c0d",
   "metadata": {},
   "outputs": [],
   "source": [
    "#4. try to extract all the numerical data it may by part of dict key and values"
   ]
  },
  {
   "cell_type": "code",
   "execution_count": 10,
   "id": "d01e1acc-0290-43c7-9339-df7ee9071f6b",
   "metadata": {},
   "outputs": [
    {
     "name": "stdout",
     "output_type": "stream",
     "text": [
      "[1, 2, 3, 4, 2, 3, 4, 5, 6, 3, 4, 5, 6, 7, 45, 4, 5, 23, 3, 6, 7, 8]\n"
     ]
    }
   ],
   "source": [
    "l1 = []\n",
    "for i in l:\n",
    "    if type(i)==list or type(i)==tuple or type(i)==set:\n",
    "        for j in i:\n",
    "            if type(j)==int:\n",
    "                l1.append(j)\n",
    "\n",
    "    if type(i)==dict:\n",
    "        for k,m in i.items():\n",
    "            if type(k)==int or type(m)==int:\n",
    "                l1.append(k)\n",
    "                l1.append(m)\n",
    "\n",
    "print(l1)\n",
    "\n",
    "\n"
   ]
  },
  {
   "cell_type": "code",
   "execution_count": 11,
   "id": "ee6ea5cd-25c4-4b87-a0df-53d24c624dea",
   "metadata": {},
   "outputs": [],
   "source": [
    "#5. try to give summation of all the numerical data"
   ]
  },
  {
   "cell_type": "code",
   "execution_count": 12,
   "id": "d83f02fe-af20-44a4-9a62-f6ed2c1fa474",
   "metadata": {},
   "outputs": [
    {
     "data": {
      "text/plain": [
       "156"
      ]
     },
     "execution_count": 12,
     "metadata": {},
     "output_type": "execute_result"
    }
   ],
   "source": [
    "sum(l1)"
   ]
  },
  {
   "cell_type": "code",
   "execution_count": 13,
   "id": "53b7c0a0-5e2b-4fb2-abe6-f84b0d43e91e",
   "metadata": {},
   "outputs": [],
   "source": [
    "#6 .try to filter out all the odd values out of all the numerical data which is a part of list"
   ]
  },
  {
   "cell_type": "code",
   "execution_count": 14,
   "id": "722b5775-3eb4-43b9-a7b7-cfad4a0720c2",
   "metadata": {},
   "outputs": [
    {
     "data": {
      "text/plain": [
       "[1, 2, 3, 4, 2, 3, 4, 5, 6, 3, 4, 5, 6, 7, 45, 4, 5, 23, 3, 6, 7, 8]"
      ]
     },
     "execution_count": 14,
     "metadata": {},
     "output_type": "execute_result"
    }
   ],
   "source": [
    "l1"
   ]
  },
  {
   "cell_type": "code",
   "execution_count": 15,
   "id": "9718cbda-ffe9-491a-be10-da4f033f2148",
   "metadata": {},
   "outputs": [
    {
     "name": "stdout",
     "output_type": "stream",
     "text": [
      "[1, 3, 3, 5, 3, 5, 7, 45, 5, 23, 3, 7]\n"
     ]
    }
   ],
   "source": [
    "l2 = []\n",
    "for n in l1:\n",
    "    if n % 2 != 0:\n",
    "        l2.append(n)\n",
    "print(l2)"
   ]
  },
  {
   "cell_type": "code",
   "execution_count": 16,
   "id": "6ee1f4d5-e5b5-4cea-a14f-90068bafb878",
   "metadata": {},
   "outputs": [],
   "source": [
    "#7 . try to extract ineuron out of this data"
   ]
  },
  {
   "cell_type": "code",
   "execution_count": 17,
   "id": "8d9047a4-4950-4dc5-a1b9-9692f538384a",
   "metadata": {
    "scrolled": true
   },
   "outputs": [
    {
     "name": "stdout",
     "output_type": "stream",
     "text": [
      "['ineuron', 'ineuron']\n"
     ]
    }
   ],
   "source": [
    "l3 = []\n",
    "for i in l:\n",
    "    if type(i)==list or type(i)==tuple or type(i)==set:\n",
    "        for j in i:\n",
    "            if j=='ineuron':\n",
    "                l3.append(j)\n",
    "\n",
    "    if type(i)==dict:\n",
    "        for k,v in i.items():\n",
    "            if v=='ineuron':\n",
    "                l3.append(v)\n",
    "                \n",
    "\n",
    "print(l3)"
   ]
  },
  {
   "cell_type": "code",
   "execution_count": 18,
   "id": "3443f4d3-b808-41d0-94a4-65c0e67624ef",
   "metadata": {},
   "outputs": [],
   "source": [
    "#8 . try to find out number of occurances of all the data"
   ]
  },
  {
   "cell_type": "code",
   "execution_count": 42,
   "id": "c8a63713-cb36-45d8-b24f-f050da2d747a",
   "metadata": {},
   "outputs": [
    {
     "name": "stdout",
     "output_type": "stream",
     "text": [
      "1 : 1\n",
      "2 : 2\n",
      "3 : 4\n",
      "4 : 4\n",
      "5 : 3\n",
      "6 : 3\n",
      "7 : 2\n",
      "8 : 1\n",
      "sudh : 1\n",
      "45 : 1\n",
      "k3 : 1\n",
      "kumar : 1\n",
      "k2 : 1\n",
      "23 : 1\n",
      "ineuron : 2\n",
      "data science : 1\n",
      "k1 : 1\n"
     ]
    }
   ],
   "source": [
    "l4 = []\n",
    "for i in l:\n",
    "    if type(i)==list or type(i)==tuple or type(i)==set:\n",
    "        for j in i:\n",
    "            l4.append(j)\n",
    "\n",
    "    if type(i)==dict:\n",
    "        for k,v in i.items():\n",
    "            l4.append(k)\n",
    "            l4.append(v)\n",
    "\n",
    "for c in set(l4):\n",
    "    print(c ,\":\" ,  l4.count(c))"
   ]
  },
  {
   "cell_type": "code",
   "execution_count": 20,
   "id": "a9211991-e6e0-4a5b-8e07-926834946c4a",
   "metadata": {},
   "outputs": [],
   "source": [
    "#9 . try to filter out all the strings data"
   ]
  },
  {
   "cell_type": "code",
   "execution_count": 21,
   "id": "63e55828-bd62-45d2-bda0-ab21b9d7e0b6",
   "metadata": {},
   "outputs": [
    {
     "name": "stdout",
     "output_type": "stream",
     "text": [
      "['k1', 'sudh', 'k2', 'ineuron', 'k3', 'kumar', 'ineuron', 'data science']\n"
     ]
    }
   ],
   "source": [
    "l5 = []\n",
    "for i in l:\n",
    "    if type(i)==list or type(i)==tuple or type(i)==set:\n",
    "        for j in i:\n",
    "            if type(j)==str:\n",
    "                l5.append(j)\n",
    "\n",
    "    if type(i)==dict:\n",
    "        for k,m in i.items():\n",
    "            if type(k)==str or type(m)==str:\n",
    "                l5.append(k)\n",
    "                l5.append(m)\n",
    "\n",
    "print(l5)"
   ]
  },
  {
   "cell_type": "code",
   "execution_count": null,
   "id": "3f46fab9-4d2d-48db-9b2e-f660ea9a6f1d",
   "metadata": {},
   "outputs": [],
   "source": [
    "#10 . try to find out number of keys in dict element"
   ]
  },
  {
   "cell_type": "code",
   "execution_count": 45,
   "id": "b74c50a9-4780-473c-b660-584d3e2e9c26",
   "metadata": {},
   "outputs": [
    {
     "name": "stdout",
     "output_type": "stream",
     "text": [
      "['k1', 'k2', 'k3', 3, 7]\n"
     ]
    }
   ],
   "source": [
    "l6 = []\n",
    "for i in l:\n",
    "    if type(i)==dict:\n",
    "        for j in i.keys():\n",
    "            l6.append(j)\n",
    "\n",
    "print(l6)"
   ]
  },
  {
   "cell_type": "code",
   "execution_count": 46,
   "id": "126adc71-c66c-4c64-b59e-a228c1b555c5",
   "metadata": {},
   "outputs": [],
   "source": [
    "#11 . try to find out alphanumeric data  ## k1 ,k2,k3"
   ]
  },
  {
   "cell_type": "code",
   "execution_count": 52,
   "id": "969ead8e-6729-4c63-a5b3-2c3b9153ed49",
   "metadata": {},
   "outputs": [
    {
     "name": "stdout",
     "output_type": "stream",
     "text": [
      "['k1', 'k2', 'k3']\n"
     ]
    }
   ],
   "source": [
    "l7 = []\n",
    "for i in l:\n",
    "    if type(i)==dict:\n",
    "        for j in i.keys():\n",
    "            if type(j)==str:\n",
    "                if j.isalnum():\n",
    "                    l7.append(j)\n",
    "print(l7)"
   ]
  },
  {
   "cell_type": "code",
   "execution_count": 53,
   "id": "aa609b58-ae71-47de-83a6-057192975845",
   "metadata": {},
   "outputs": [],
   "source": [
    "#12 . try to find out multiplication of all the individual collection inside dataset"
   ]
  },
  {
   "cell_type": "code",
   "execution_count": 65,
   "id": "228a7134-17af-4cd8-85d4-6e83a34b62d7",
   "metadata": {},
   "outputs": [
    {
     "name": "stdout",
     "output_type": "stream",
     "text": [
      "[1, 2, 3, 4, 2, 3, 4, 5, 6, 3, 4, 5, 6, 7, 45, 4, 5, 23, 3, 6, 7, 8]\n",
      "908605071360000\n"
     ]
    }
   ],
   "source": [
    "l1 = []\n",
    "for i in l:\n",
    "    if type(i)==list or type(i)==tuple or type(i)==set:\n",
    "        for j in i:\n",
    "            if type(j)==int:\n",
    "                l1.append(j)\n",
    "\n",
    "    if type(i)==dict:\n",
    "        for k,m in i.items():\n",
    "            if type(k)==int or type(m)==int:\n",
    "                l1.append(k)\n",
    "                l1.append(m)\n",
    "\n",
    "print(l1)\n",
    "a=1\n",
    "for i in l1:\n",
    "    a = a*i\n",
    "print(a)\n"
   ]
  },
  {
   "cell_type": "code",
   "execution_count": null,
   "id": "79c43a10-02db-41de-8c28-e6f72754e5c2",
   "metadata": {},
   "outputs": [],
   "source": [
    "#13 . try to unwrape all the collections inside collection and create a flat list"
   ]
  },
  {
   "cell_type": "code",
   "execution_count": 68,
   "id": "16c8b0b4-f0b9-4f03-a902-bf2e398e1e76",
   "metadata": {},
   "outputs": [
    {
     "name": "stdout",
     "output_type": "stream",
     "text": [
      "[1, 2, 3, 4, 2, 3, 4, 5, 6, 3, 4, 5, 6, 7, 45, 4, 5, 23, 'k1', 'sudh', 'k2', 'ineuron', 'k3', 'kumar', 3, 6, 7, 8, 'ineuron', 'data science']\n"
     ]
    }
   ],
   "source": [
    "l4 = []\n",
    "for i in l:\n",
    "    if type(i)==list or type(i)==tuple or type(i)==set:\n",
    "        for j in i:\n",
    "            l4.append(j)\n",
    "\n",
    "    if type(i)==dict:\n",
    "        for k,v in i.items():\n",
    "            l4.append(k)\n",
    "            l4.append(v)\n",
    "\n",
    "print(l4)"
   ]
  },
  {
   "cell_type": "code",
   "execution_count": null,
   "id": "5eab2879-b773-4cb6-840b-e9ad36ba85e9",
   "metadata": {},
   "outputs": [],
   "source": []
  },
  {
   "cell_type": "code",
   "execution_count": null,
   "id": "4f5fe776-6b27-4a0f-87e8-811eb0d8d96e",
   "metadata": {},
   "outputs": [],
   "source": []
  },
  {
   "cell_type": "code",
   "execution_count": null,
   "id": "6584a914-4d37-488a-bdb7-611ccebed7ea",
   "metadata": {},
   "outputs": [],
   "source": []
  },
  {
   "cell_type": "code",
   "execution_count": null,
   "id": "b836cbca-3ae1-4a3c-891d-4b9711644fdc",
   "metadata": {},
   "outputs": [],
   "source": []
  }
 ],
 "metadata": {
  "kernelspec": {
   "display_name": "Python 3 (ipykernel)",
   "language": "python",
   "name": "python3"
  },
  "language_info": {
   "codemirror_mode": {
    "name": "ipython",
    "version": 3
   },
   "file_extension": ".py",
   "mimetype": "text/x-python",
   "name": "python",
   "nbconvert_exporter": "python",
   "pygments_lexer": "ipython3",
   "version": "3.11.7"
  }
 },
 "nbformat": 4,
 "nbformat_minor": 5
}
